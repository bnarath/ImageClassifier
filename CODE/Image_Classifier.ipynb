{
 "cells": [
  {
   "cell_type": "markdown",
   "metadata": {},
   "source": [
    "## Dependencies"
   ]
  },
  {
   "cell_type": "code",
   "execution_count": 14,
   "metadata": {},
   "outputs": [],
   "source": [
    "import os\n",
    "import urllib\n",
    "import tarfile\n",
    "import shutil\n",
    "import random\n",
    "\n",
    "\n",
    "from IPython.core.interactiveshell import InteractiveShell\n",
    "InteractiveShell.ast_node_interactivity = 'all'"
   ]
  },
  {
   "cell_type": "markdown",
   "metadata": {},
   "source": [
    "### Step1:- Download and extract data"
   ]
  },
  {
   "cell_type": "markdown",
   "metadata": {},
   "source": [
    "* Download both image and annotations tar.gz files\n",
    "* Extract the content to Data/images and Data/annotations"
   ]
  },
  {
   "cell_type": "code",
   "execution_count": 20,
   "metadata": {},
   "outputs": [
    {
     "name": "stdout",
     "output_type": "stream",
     "text": [
      "Downloading images.tar.gz\n",
      "../images.tar.gz\n",
      "<tarfile.TarFile object at 0x10b3dec10>\n",
      "Downloading annotations.tar.gz\n",
      "../annotations.tar.gz\n",
      "<tarfile.TarFile object at 0x10b5d4610>\n"
     ]
    }
   ],
   "source": [
    "#Oxford VGG dataset urls for image and annotations\n",
    "urls = ['http://www.robots.ox.ac.uk/~vgg/data/pets/data/images.tar.gz',\n",
    "       'http://www.robots.ox.ac.uk/~vgg/data/pets/data/annotations.tar.gz']\n",
    "\n",
    "def download_and_extract(data_dir, download_dir):\n",
    "    #Download the data from urls and extract it to datadir\n",
    "    for url in urls:\n",
    "        filename = url.split('/')[-1]\n",
    "        if filename not in os.listdir(download_dir):\n",
    "            print(f'Downloading {filename}')\n",
    "            print(os.path.join(download_dir, filename))\n",
    "            try:\n",
    "                urllib.request.urlretrieve(url, filename=os.path.join(download_dir, filename))\n",
    "                tf = tarfile.open(name=os.path.join(download_dir,filename))\n",
    "                print(tf)\n",
    "                tf.extractall(data_dir)\n",
    "            except Exception as e:\n",
    "                print(e.args)\n",
    "        else:\n",
    "            print(f'{filename} is already downloaded')\n",
    "    \n",
    "if 'Data' not in os.listdir('../'):\n",
    "    os.mkdir(os.path.join('..', 'Data'))\n",
    "             \n",
    "download_and_extract('../Data', '../')"
   ]
  },
  {
   "cell_type": "code",
   "execution_count": 21,
   "metadata": {},
   "outputs": [
    {
     "data": {
      "text/plain": [
       "['.DS_Store', 'images', 'annotations']"
      ]
     },
     "execution_count": 21,
     "metadata": {},
     "output_type": "execute_result"
    }
   ],
   "source": [
    "os.listdir('../Data')"
   ]
  },
  {
   "cell_type": "markdown",
   "metadata": {},
   "source": [
    "## Step2:- Annotate"
   ]
  },
  {
   "cell_type": "markdown",
   "metadata": {},
   "source": [
    "* Convert \"Abyssinian_100 1 1 1\" to \"Abyssinian.jpg\" and \"cat\"\n",
    "* Perform the same for all lines in trainval and test"
   ]
  },
  {
   "cell_type": "code",
   "execution_count": 22,
   "metadata": {},
   "outputs": [],
   "source": [
    "def annotate(file, annotations={}):\n",
    "    \n",
    "    with open(file, 'r') as f:\n",
    "        rows = f.read().splitlines()\n",
    "        \n",
    "    for row in rows:\n",
    "        image, class_id, species, breed = row.split()\n",
    "        class_name = '_'.join(image.split('_')[:-1])\n",
    "        image = image + '.jpg'\n",
    "        \n",
    "        annotations[image] = 'cat' if class_name[0] != class_name[0].lower() else 'dog'\n",
    "        \n",
    "    return annotations\n",
    "\n",
    "annotations = annotate('../Data/annotations/trainval.txt')\n",
    "annotations = annotate('../Data/annotations/test.txt')"
   ]
  },
  {
   "cell_type": "code",
   "execution_count": 23,
   "metadata": {},
   "outputs": [
    {
     "data": {
      "text/plain": [
       "7349"
      ]
     },
     "execution_count": 23,
     "metadata": {},
     "output_type": "execute_result"
    }
   ],
   "source": [
    "len(annotations)"
   ]
  },
  {
   "cell_type": "code",
   "execution_count": 24,
   "metadata": {},
   "outputs": [
    {
     "data": {
      "text/plain": [
       "('Abyssinian_100.jpg', 'cat')"
      ]
     },
     "execution_count": 24,
     "metadata": {},
     "output_type": "execute_result"
    }
   ],
   "source": [
    "next(iter(annotations.items()))"
   ]
  },
  {
   "cell_type": "markdown",
   "metadata": {},
   "source": [
    "## Step3:- Train Validation Split"
   ]
  },
  {
   "cell_type": "markdown",
   "metadata": {},
   "source": [
    "* Create new folder stucture under train_test_data and move each image to corresponding folders\n",
    "* Train Validation split - 80%-20%"
   ]
  },
  {
   "cell_type": "code",
   "execution_count": 25,
   "metadata": {},
   "outputs": [],
   "source": [
    "new_directory = '../train_test_data'\n",
    "classes = ['cat', 'dog']\n",
    "sets = ['train', 'validation']\n",
    "\n",
    "#Create this if not present\n",
    "if not os.path.isdir(new_directory):\n",
    "    os.mkdir(new_directory)\n",
    "    \n",
    "for set_name in sets:\n",
    "    to_create = os.path.join(new_directory, set_name)\n",
    "    if not os.path.isdir(to_create):\n",
    "        os.mkdir(os.path.join(new_directory, set_name))\n",
    "    \n",
    "    \n",
    "    for class_name in classes:\n",
    "        to_create = os.path.join(new_directory, set_name, class_name)\n",
    "        if not os.path.isdir(to_create):\n",
    "            os.mkdir(os.path.join(new_directory, set_name, class_name))"
   ]
  },
  {
   "cell_type": "code",
   "execution_count": 26,
   "metadata": {},
   "outputs": [],
   "source": [
    "for image, class_name  in annotations.items():\n",
    "    target_set = 'validation' if random.random() <= 0.2 else 'train'\n",
    "    dest_path = os.path.join(new_directory, target_set, class_name, image)\n",
    "    _=shutil.copy(os.path.join('../Data/images', image), dest_path)\n",
    "    "
   ]
  },
  {
   "cell_type": "markdown",
   "metadata": {},
   "source": [
    "#### Checking the counts"
   ]
  },
  {
   "cell_type": "code",
   "execution_count": 29,
   "metadata": {},
   "outputs": [
    {
     "name": "stdout",
     "output_type": "stream",
     "text": [
      "../train_test_data/train/cat has 1886 images\n",
      "../train_test_data/train/dog has 3971 images\n",
      "../train_test_data/validation/cat has 485 images\n",
      "../train_test_data/validation/dog has 1007 images\n"
     ]
    }
   ],
   "source": [
    "sets_classes_count = {\n",
    "    'train' : {'dog': 0, 'cat': 0},\n",
    "    'validation' : {'dog': 0, 'cat': 0}\n",
    "}\n",
    "\n",
    "for set_name in sets:\n",
    "    for class_name in classes:\n",
    "        path = os.path.join(new_directory, set_name, class_name)\n",
    "        count = len(os.listdir(path))\n",
    "        sets_classes_count[set_name][class_name] = count\n",
    "        print(f\"{path} has {count} images\")"
   ]
  },
  {
   "cell_type": "code",
   "execution_count": 30,
   "metadata": {},
   "outputs": [
    {
     "data": {
      "text/plain": [
       "{'train': {'dog': 3971, 'cat': 1886}, 'validation': {'dog': 1007, 'cat': 485}}"
      ]
     },
     "execution_count": 30,
     "metadata": {},
     "output_type": "execute_result"
    }
   ],
   "source": [
    "sets_classes_count"
   ]
  },
  {
   "cell_type": "code",
   "execution_count": null,
   "metadata": {},
   "outputs": [],
   "source": []
  }
 ],
 "metadata": {
  "kernelspec": {
   "display_name": "Python 3",
   "language": "python",
   "name": "python3"
  },
  "language_info": {
   "codemirror_mode": {
    "name": "ipython",
    "version": 3
   },
   "file_extension": ".py",
   "mimetype": "text/x-python",
   "name": "python",
   "nbconvert_exporter": "python",
   "pygments_lexer": "ipython3",
   "version": "3.8.1"
  }
 },
 "nbformat": 4,
 "nbformat_minor": 4
}

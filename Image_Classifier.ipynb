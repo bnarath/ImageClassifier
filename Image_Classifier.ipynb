{
 "cells": [
  {
   "cell_type": "markdown",
   "metadata": {},
   "source": [
    "## Dependencies"
   ]
  },
  {
   "cell_type": "code",
   "execution_count": 17,
   "metadata": {},
   "outputs": [],
   "source": [
    "import os\n",
    "import urllib\n",
    "import tarfile\n",
    "import shutil\n",
    "import random\n",
    "\n",
    "\n",
    "from IPython.core.interactiveshell import InteractiveShell\n",
    "InteractiveShell.ast_node_interactivity = 'all'"
   ]
  },
  {
   "cell_type": "markdown",
   "metadata": {},
   "source": [
    "### Step1:- Download and extract data"
   ]
  },
  {
   "cell_type": "markdown",
   "metadata": {},
   "source": [
    "* Download both image and annotations tar.gz files\n",
    "* Extract the content to Data/images and Data/annotations"
   ]
  },
  {
   "cell_type": "code",
   "execution_count": 9,
   "metadata": {},
   "outputs": [
    {
     "name": "stdout",
     "output_type": "stream",
     "text": [
      "Downloading images.tar.gz\n",
      "./images.tar.gz\n",
      "<tarfile.TarFile object at 0x1144abe80>\n",
      "Downloading annotations.tar.gz\n",
      "./annotations.tar.gz\n",
      "<tarfile.TarFile object at 0x114ef2430>\n"
     ]
    }
   ],
   "source": [
    "#Oxford VGG dataset urls for image and annotations\n",
    "urls = ['http://www.robots.ox.ac.uk/~vgg/data/pets/data/images.tar.gz',\n",
    "       'http://www.robots.ox.ac.uk/~vgg/data/pets/data/annotations.tar.gz']\n",
    "\n",
    "def download_and_extract(data_dir, download_dir):\n",
    "    #Download the data from urls and extract it to datadir\n",
    "    for url in urls:\n",
    "        filename = url.split('/')[-1]\n",
    "        if filename not in os.listdir(download_dir):\n",
    "            print(f'Downloading {filename}')\n",
    "            print(os.path.join(download_dir, filename))\n",
    "            try:\n",
    "                urllib.request.urlretrieve(url, filename=os.path.join(download_dir, filename))\n",
    "                tf = tarfile.open(name=filename)\n",
    "                print(tf)\n",
    "                tf.extractall(data_dir)\n",
    "            except Exception as e:\n",
    "                print(e.args)\n",
    "        else:\n",
    "            print(f'{filename} is already downloaded')\n",
    "    \n",
    "download_and_extract('Data', '.')"
   ]
  },
  {
   "cell_type": "code",
   "execution_count": 12,
   "metadata": {},
   "outputs": [
    {
     "data": {
      "text/plain": [
       "['images', 'annotations']"
      ]
     },
     "execution_count": 12,
     "metadata": {},
     "output_type": "execute_result"
    }
   ],
   "source": [
    "os.listdir('Data')"
   ]
  },
  {
   "cell_type": "markdown",
   "metadata": {},
   "source": [
    "## Step2:- Annotate"
   ]
  },
  {
   "cell_type": "markdown",
   "metadata": {},
   "source": [
    "* Convert \"Abyssinian_100 1 1 1\" to \"Abyssinian.jpg\" and \"cat\"\n",
    "* Perform the same for all lines in trainval and test"
   ]
  },
  {
   "cell_type": "code",
   "execution_count": 13,
   "metadata": {},
   "outputs": [],
   "source": [
    "def annotate(file, annotations={}):\n",
    "    \n",
    "    with open(file, 'r') as f:\n",
    "        rows = f.read().splitlines()\n",
    "        \n",
    "    for row in rows:\n",
    "        image, class_id, species, breed = row.split()\n",
    "        class_name = '_'.join(image.split('_')[:-1])\n",
    "        image = image + '.jpg'\n",
    "        \n",
    "        annotations[image] = 'cat' if class_name[0] != class_name[0].lower() else 'dog'\n",
    "        \n",
    "    return annotations\n",
    "\n",
    "annotations = annotate('Data/annotations/trainval.txt')\n",
    "annotations = annotate('Data/annotations/test.txt')"
   ]
  },
  {
   "cell_type": "code",
   "execution_count": 15,
   "metadata": {},
   "outputs": [
    {
     "data": {
      "text/plain": [
       "7349"
      ]
     },
     "execution_count": 15,
     "metadata": {},
     "output_type": "execute_result"
    }
   ],
   "source": [
    "len(annotations)"
   ]
  },
  {
   "cell_type": "code",
   "execution_count": 16,
   "metadata": {},
   "outputs": [
    {
     "data": {
      "text/plain": [
       "('Abyssinian_100.jpg', 'cat')"
      ]
     },
     "execution_count": 16,
     "metadata": {},
     "output_type": "execute_result"
    }
   ],
   "source": [
    "next(iter(annotations.items()))"
   ]
  },
  {
   "cell_type": "markdown",
   "metadata": {},
   "source": [
    "## Step3:- Train Validation Split"
   ]
  },
  {
   "cell_type": "markdown",
   "metadata": {},
   "source": [
    "* "
   ]
  },
  {
   "cell_type": "code",
   "execution_count": 19,
   "metadata": {},
   "outputs": [],
   "source": [
    "new_directory = 'train_test_data'\n",
    "classes = ['cat', 'dog']\n",
    "sets = ['train', 'validation']\n",
    "\n",
    "#Create this if not present\n",
    "if not os.path.isdir(new_directory):\n",
    "    os.mkdir(new_directory)\n",
    "    \n",
    "for set_name in sets:\n",
    "    to_create = os.path.join(new_directory, set_name)\n",
    "    if not os.path.isdir(to_create):\n",
    "        os.mkdir(os.path.join(new_directory, set_name))\n",
    "    \n",
    "    to_create = \n",
    "    for class_name in classes:\n",
    "        if not :\n",
    "            os.mkdir(os.path.join(new_directory, set_name, class_name))"
   ]
  },
  {
   "cell_type": "code",
   "execution_count": null,
   "metadata": {},
   "outputs": [],
   "source": [
    "for image, class_name  in annotations.items():\n",
    "    target_set = 'validation' if random.rand <= 0.2 else 'train'\n",
    "    dest_path = os.\n",
    "    os.path.join('Data/images', image), \n",
    "    "
   ]
  }
 ],
 "metadata": {
  "kernelspec": {
   "display_name": "Python 3",
   "language": "python",
   "name": "python3"
  },
  "language_info": {
   "codemirror_mode": {
    "name": "ipython",
    "version": 3
   },
   "file_extension": ".py",
   "mimetype": "text/x-python",
   "name": "python",
   "nbconvert_exporter": "python",
   "pygments_lexer": "ipython3",
   "version": "3.8.1"
  }
 },
 "nbformat": 4,
 "nbformat_minor": 4
}
